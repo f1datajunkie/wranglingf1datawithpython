{
 "cells": [
  {
   "cell_type": "markdown",
   "id": "e1915ae2-02bf-4496-a427-fc7563b63dd2",
   "metadata": {},
   "source": [
    "# Refinements\n",
    "\n",
    "Possible improvements to `fastf1` package."
   ]
  },
  {
   "cell_type": "markdown",
   "id": "b274af26-54d7-4edf-b22d-563e62c380e1",
   "metadata": {},
   "source": [
    "## Improve ergast API\n",
    "\n",
    "Add additional ergast API requests:"
   ]
  },
  {
   "cell_type": "code",
   "execution_count": 51,
   "id": "76f15989-d1e0-4e98-8f6f-a1901766148b",
   "metadata": {},
   "outputs": [],
   "source": [
    "from fastf1.ergast import base_url, _parse_ergast, _parse_json_response, _headers\n",
    "from fastf1.api import Cache\n",
    "from pandas import json_normalize"
   ]
  },
  {
   "cell_type": "code",
   "execution_count": 59,
   "id": "ee6d7ec6-ca0d-4f6c-ad71-8fba7819bcdf",
   "metadata": {},
   "outputs": [],
   "source": [
    "def _parse_ergast(data, table=\"RaceTable:Races\", as_df=False):\n",
    "    \"\"\"Parse specified table from ergast data.\"\"\"\n",
    "    data_table = data['MRData']\n",
    "    for t in table.split(\":\"):\n",
    "        if t:\n",
    "            data_table = data_table[t]\n",
    "    return data_table if not as_df else json_normalize(data_table)"
   ]
  },
  {
   "cell_type": "code",
   "execution_count": 53,
   "id": "f0fb6ab8-2c53-4d63-a0f3-271b9d8b6045",
   "metadata": {},
   "outputs": [],
   "source": [
    "#http://ergast.com/api/f1/drivers\n",
    "#http://ergast.com/api/f1/2010/drivers\n",
    "#http://ergast.com/api/f1/2010/2/drivers\n",
    "def fetch_driver(year, gp=None, as_df=False):\n",
    "    \"\"\"Get driver information from ergast API by year and optionally by race.\"\"\"\n",
    "    if gp is None:\n",
    "        url = f\"{base_url}/{year}/drivers.json\"\n",
    "    else:\n",
    "        url = f\"{base_url}/{year}/{gp}/drivers.json\"\n",
    "    return _parse_ergast(_parse_json_response(\n",
    "        Cache.requests_get(url, headers=_headers)),\n",
    "                         \"DriverTable:Drivers\", as_df\n",
    "    )"
   ]
  },
  {
   "cell_type": "code",
   "execution_count": 55,
   "id": "70bae0c4-fe4e-4011-9805-79654cc94fcb",
   "metadata": {},
   "outputs": [
    {
     "data": {
      "text/html": [
       "<div>\n",
       "<style scoped>\n",
       "    .dataframe tbody tr th:only-of-type {\n",
       "        vertical-align: middle;\n",
       "    }\n",
       "\n",
       "    .dataframe tbody tr th {\n",
       "        vertical-align: top;\n",
       "    }\n",
       "\n",
       "    .dataframe thead th {\n",
       "        text-align: right;\n",
       "    }\n",
       "</style>\n",
       "<table border=\"1\" class=\"dataframe\">\n",
       "  <thead>\n",
       "    <tr style=\"text-align: right;\">\n",
       "      <th></th>\n",
       "      <th>driverId</th>\n",
       "      <th>permanentNumber</th>\n",
       "      <th>code</th>\n",
       "      <th>url</th>\n",
       "      <th>givenName</th>\n",
       "      <th>familyName</th>\n",
       "      <th>dateOfBirth</th>\n",
       "      <th>nationality</th>\n",
       "    </tr>\n",
       "  </thead>\n",
       "  <tbody>\n",
       "    <tr>\n",
       "      <th>0</th>\n",
       "      <td>albon</td>\n",
       "      <td>23</td>\n",
       "      <td>ALB</td>\n",
       "      <td>http://en.wikipedia.org/wiki/Alexander_Albon</td>\n",
       "      <td>Alexander</td>\n",
       "      <td>Albon</td>\n",
       "      <td>1996-03-23</td>\n",
       "      <td>Thai</td>\n",
       "    </tr>\n",
       "    <tr>\n",
       "      <th>1</th>\n",
       "      <td>alonso</td>\n",
       "      <td>14</td>\n",
       "      <td>ALO</td>\n",
       "      <td>http://en.wikipedia.org/wiki/Fernando_Alonso</td>\n",
       "      <td>Fernando</td>\n",
       "      <td>Alonso</td>\n",
       "      <td>1981-07-29</td>\n",
       "      <td>Spanish</td>\n",
       "    </tr>\n",
       "    <tr>\n",
       "      <th>2</th>\n",
       "      <td>bottas</td>\n",
       "      <td>77</td>\n",
       "      <td>BOT</td>\n",
       "      <td>http://en.wikipedia.org/wiki/Valtteri_Bottas</td>\n",
       "      <td>Valtteri</td>\n",
       "      <td>Bottas</td>\n",
       "      <td>1989-08-28</td>\n",
       "      <td>Finnish</td>\n",
       "    </tr>\n",
       "    <tr>\n",
       "      <th>3</th>\n",
       "      <td>gasly</td>\n",
       "      <td>10</td>\n",
       "      <td>GAS</td>\n",
       "      <td>http://en.wikipedia.org/wiki/Pierre_Gasly</td>\n",
       "      <td>Pierre</td>\n",
       "      <td>Gasly</td>\n",
       "      <td>1996-02-07</td>\n",
       "      <td>French</td>\n",
       "    </tr>\n",
       "    <tr>\n",
       "      <th>4</th>\n",
       "      <td>hamilton</td>\n",
       "      <td>44</td>\n",
       "      <td>HAM</td>\n",
       "      <td>http://en.wikipedia.org/wiki/Lewis_Hamilton</td>\n",
       "      <td>Lewis</td>\n",
       "      <td>Hamilton</td>\n",
       "      <td>1985-01-07</td>\n",
       "      <td>British</td>\n",
       "    </tr>\n",
       "  </tbody>\n",
       "</table>\n",
       "</div>"
      ],
      "text/plain": [
       "   driverId permanentNumber code  \\\n",
       "0     albon              23  ALB   \n",
       "1    alonso              14  ALO   \n",
       "2    bottas              77  BOT   \n",
       "3     gasly              10  GAS   \n",
       "4  hamilton              44  HAM   \n",
       "\n",
       "                                            url  givenName familyName  \\\n",
       "0  http://en.wikipedia.org/wiki/Alexander_Albon  Alexander      Albon   \n",
       "1  http://en.wikipedia.org/wiki/Fernando_Alonso   Fernando     Alonso   \n",
       "2  http://en.wikipedia.org/wiki/Valtteri_Bottas   Valtteri     Bottas   \n",
       "3     http://en.wikipedia.org/wiki/Pierre_Gasly     Pierre      Gasly   \n",
       "4   http://en.wikipedia.org/wiki/Lewis_Hamilton      Lewis   Hamilton   \n",
       "\n",
       "  dateOfBirth nationality  \n",
       "0  1996-03-23        Thai  \n",
       "1  1981-07-29     Spanish  \n",
       "2  1989-08-28     Finnish  \n",
       "3  1996-02-07      French  \n",
       "4  1985-01-07     British  "
      ]
     },
     "execution_count": 55,
     "metadata": {},
     "output_type": "execute_result"
    }
   ],
   "source": [
    "fetch_driver(2022, as_df=True).head()"
   ]
  },
  {
   "cell_type": "code",
   "execution_count": 42,
   "id": "0198af39-ec66-496a-88d4-c128f8ace1d6",
   "metadata": {},
   "outputs": [],
   "source": [
    "from unidecode import unidecode\n",
    "\n",
    "def driver_translate(year, gp=None):\n",
    "    \"\"\"Get a driver translate lookup dict via ergast API.\"\"\"\n",
    "    def _n(d):\n",
    "        #Normalise driver name\n",
    "        return unidecode(f'{d[\"givenName\"]} {d[\"familyName\"]}').lower()\n",
    "\n",
    "    drivers = fetch_driver(year, gp)\n",
    "    _DRIVER_TRANSLATE = {d[\"code\"]: _n(d) for d in drivers}\n",
    "    return _DRIVER_TRANSLATE"
   ]
  },
  {
   "cell_type": "code",
   "execution_count": 160,
   "id": "a141a45d-3336-4d7d-8285-0270bdfe535b",
   "metadata": {},
   "outputs": [],
   "source": [
    "def ergast_driver_code_number(year, gp=None, typ=\"code\", index=\"driverId\"):\n",
    "    \"\"\"Get driver codes via ergast API.\"\"\"\n",
    "    _driver_details = fetch_driver(year, gp, as_df=True)\n",
    "    _driver_details[\"permanentNumber\"] = _driver_details[\"permanentNumber\"].astype(int)\n",
    "    # The typ value sets the lookup value against the ergast driverId.\n",
    "    # By default, the driverId provides keys fro the returned dict.\n",
    "    # The typ can also be autoset via the index value\n",
    "    # if we want to use the code or number as the key, and driverId as the value.\n",
    "    typ = index if index and index not in [typ, \"driverId\"] else typ\n",
    "    typ = \"permanentNumber\" if typ.startswith(\"num\") else typ\n",
    "    index = \"permanentNumber\" if index.startswith(\"num\") else index\n",
    "    # Ideally, return a dictionary\n",
    "    if typ in [\"code\", \"permanentNumber\"]:\n",
    "        return _driver_details[[\"driverId\", typ]].set_index(index).squeeze().to_dict()\n",
    "    # Otherwise, provide a lookup dataframe\n",
    "    return _driver_details[[\"code\", \"permanentNumber\", \"driverId\"]]\n",
    "    "
   ]
  },
  {
   "cell_type": "markdown",
   "id": "de637f59-8d40-4ce5-b26a-2b7659e4fe30",
   "metadata": {},
   "source": [
    "Automate creation of `DRIVER_TRANSLATE` lookup in `fastf1.plotting`:"
   ]
  },
  {
   "cell_type": "code",
   "execution_count": 161,
   "id": "a3eebda6-bcad-45ef-a135-bffd1936a6d8",
   "metadata": {},
   "outputs": [],
   "source": [
    "# Manually defined lookup\n",
    "DRIVER_TRANSLATE = {'LEC': 'charles leclerc', 'SAI': 'carlos sainz',\n",
    "                    'VER': 'max verstappen', 'PER': 'sergio perez',\n",
    "                    'RIC': 'daniel ricciardo', 'NOR': 'lando norris',\n",
    "                    'ALO': 'fernando alonso', 'OCO': 'esteban ocon',\n",
    "                    'BOT': 'valtteri bottas', 'ZHO': 'zhou guanyu',\n",
    "                    'GAS': 'pierre gasly', 'TSU': 'yuki tsunoda',\n",
    "                    'MAG': 'kevin magnussen', 'MSC': 'mick schumacher',\n",
    "                    'VET': 'sebastian vettel', 'HUL': 'nico hulkenberg',\n",
    "                    'STR': 'lance stroll',\n",
    "                    'HAM': 'lewis hamilton', 'RUS': 'george russell',\n",
    "                    'ALB': 'alexander albon', 'LAT': 'nicholas latifi'}"
   ]
  },
  {
   "cell_type": "markdown",
   "id": "d26b54b3-2c6d-4b5b-b71f-66d2afc4f154",
   "metadata": {},
   "source": [
    "Create a lookup from ergast identifiers to driver codes:"
   ]
  },
  {
   "cell_type": "code",
   "execution_count": 162,
   "id": "fc9f5e9c-e0e8-421b-9b2b-31c0a11c59cf",
   "metadata": {},
   "outputs": [
    {
     "data": {
      "text/plain": [
       "{'albon': 'ALB',\n",
       " 'alonso': 'ALO',\n",
       " 'bottas': 'BOT',\n",
       " 'gasly': 'GAS',\n",
       " 'hamilton': 'HAM',\n",
       " 'hulkenberg': 'HUL',\n",
       " 'latifi': 'LAT',\n",
       " 'leclerc': 'LEC',\n",
       " 'kevin_magnussen': 'MAG',\n",
       " 'norris': 'NOR',\n",
       " 'ocon': 'OCO',\n",
       " 'perez': 'PER',\n",
       " 'ricciardo': 'RIC',\n",
       " 'russell': 'RUS',\n",
       " 'sainz': 'SAI',\n",
       " 'mick_schumacher': 'MSC',\n",
       " 'stroll': 'STR',\n",
       " 'tsunoda': 'TSU',\n",
       " 'max_verstappen': 'VER',\n",
       " 'vettel': 'VET',\n",
       " 'zhou': 'ZHO'}"
      ]
     },
     "execution_count": 162,
     "metadata": {},
     "output_type": "execute_result"
    }
   ],
   "source": [
    "ERGAST_CODES = ergast_driver_code_number(2022)\n",
    "ERGAST_CODES"
   ]
  },
  {
   "cell_type": "markdown",
   "id": "b9b0ae4f-330e-484c-b0f9-16ddca4801fe",
   "metadata": {},
   "source": [
    "We can also get lap times:"
   ]
  },
  {
   "cell_type": "code",
   "execution_count": 163,
   "id": "83981dff-3b9b-4688-9fc8-b9a65b767c33",
   "metadata": {},
   "outputs": [],
   "source": [
    "import pandas as pd\n",
    "\n",
    "#http://ergast.com/api/f1/2011/5/laps/1\n",
    "#http://ergast.com/api/f1/2011/5/drivers/alonso/laps/1\n",
    "def fetch_laptimes(year, gp, lap=None, driver=None, as_df=False):\n",
    "    \"\"\"Get laptime information from ergast API by year and race,\n",
    "        and optionally by driver and/or lap.\"\"\"\n",
    "    url = f\"{base_url}/{year}/{gp}\"\n",
    "    if driver:\n",
    "        url = f\"{url}/drivers/{driver}\"\n",
    "    url = f\"{url}/laps\"\n",
    "    if lap:\n",
    "        url = f\"{url}/{lap}\"\n",
    "    url = f\"{url}.json\"\n",
    "    _laps = _parse_ergast(_parse_json_response(\n",
    "        Cache.requests_get(url, headers=_headers))\n",
    "    )[0][\"Laps\"]\n",
    "    if as_df:\n",
    "        _df = pd.DataFrame(_laps[0][\"Timings\"])\n",
    "        _df['driverId'] = _df['driverId'].map(ERGAST_CODES)\n",
    "        return _df\n",
    "    return _laps"
   ]
  },
  {
   "cell_type": "code",
   "execution_count": 165,
   "id": "a3d34b9f-2ed4-4945-90b0-81969632ca16",
   "metadata": {},
   "outputs": [
    {
     "data": {
      "text/plain": [
       "[{'number': '1',\n",
       "  'Timings': [{'driverId': 'perez', 'position': '1', 'time': '1:35.991'},\n",
       "   {'driverId': 'leclerc', 'position': '2', 'time': '1:37.088'},\n",
       "   {'driverId': 'max_verstappen', 'position': '3', 'time': '1:38.082'},\n",
       "   {'driverId': 'sainz', 'position': '4', 'time': '1:38.635'},\n",
       "   {'driverId': 'ocon', 'position': '5', 'time': '1:39.900'},\n",
       "   {'driverId': 'russell', 'position': '6', 'time': '1:40.421'},\n",
       "   {'driverId': 'alonso', 'position': '7', 'time': '1:41.458'},\n",
       "   {'driverId': 'bottas', 'position': '8', 'time': '1:42.123'},\n",
       "   {'driverId': 'kevin_magnussen', 'position': '9', 'time': '1:42.705'},\n",
       "   {'driverId': 'gasly', 'position': '10', 'time': '1:43.106'},\n",
       "   {'driverId': 'norris', 'position': '11', 'time': '1:43.333'},\n",
       "   {'driverId': 'stroll', 'position': '12', 'time': '1:43.828'},\n",
       "   {'driverId': 'ricciardo', 'position': '13', 'time': '1:44.274'},\n",
       "   {'driverId': 'hamilton', 'position': '14', 'time': '1:44.788'},\n",
       "   {'driverId': 'albon', 'position': '15', 'time': '1:45.023'},\n",
       "   {'driverId': 'hulkenberg', 'position': '16', 'time': '1:45.803'},\n",
       "   {'driverId': 'latifi', 'position': '17', 'time': '1:46.377'},\n",
       "   {'driverId': 'zhou', 'position': '18', 'time': '1:46.520'}]}]"
      ]
     },
     "execution_count": 165,
     "metadata": {},
     "output_type": "execute_result"
    }
   ],
   "source": [
    "fetch_laptimes(2022, 2, 1)"
   ]
  },
  {
   "cell_type": "code",
   "execution_count": null,
   "id": "772dd68c-3440-4540-a7bb-5fda6f0cb516",
   "metadata": {},
   "outputs": [],
   "source": []
  }
 ],
 "metadata": {
  "kernelspec": {
   "display_name": "Python 3 (ipykernel)",
   "language": "python",
   "name": "python3"
  },
  "language_info": {
   "codemirror_mode": {
    "name": "ipython",
    "version": 3
   },
   "file_extension": ".py",
   "mimetype": "text/x-python",
   "name": "python",
   "nbconvert_exporter": "python",
   "pygments_lexer": "ipython3",
   "version": "3.9.12"
  }
 },
 "nbformat": 4,
 "nbformat_minor": 5
}
