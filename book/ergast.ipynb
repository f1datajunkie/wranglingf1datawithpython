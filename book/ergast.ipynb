{
 "cells": [
  {
   "cell_type": "markdown",
   "id": "781a013b-315b-452a-b8ad-99b6cbf79bd7",
   "metadata": {},
   "source": [
    "# ergast demo\n",
    "\n",
    "`ergast-py`"
   ]
  },
  {
   "cell_type": "code",
   "execution_count": 2,
   "id": "43f20ba6-1301-479d-a1d9-b66cf56e30ab",
   "metadata": {},
   "outputs": [],
   "source": [
    "#%pip install ergast-py\n",
    "#%pip install https://github.com/Samuel-Roach/ergast-py/archive/refs/heads/master.zip"
   ]
  },
  {
   "cell_type": "code",
   "execution_count": 3,
   "id": "11e5bc1e-2693-435e-bb25-f7726d189e08",
   "metadata": {},
   "outputs": [],
   "source": [
    "import ergast_py\n",
    "\n",
    "e = ergast_py.Ergast()"
   ]
  },
  {
   "cell_type": "code",
   "execution_count": 17,
   "id": "f606fa7a-496e-40cf-8d65-a587bbb0896f",
   "metadata": {},
   "outputs": [
    {
     "data": {
      "text/plain": [
       "[Race(season=2008, round_no=5, url=http://en.wikipedia.org/wiki/2008_Turkish_Grand_Prix, race_name=Turkish Grand Prix, circuit=Circuit(circuit_id=istanbul, url=http://en.wikipedia.org/wiki/Istanbul_Park, circuit_name=Istanbul Park, location=Location(latitude=40.9517, longitude=29.405, locality=Istanbul, country=Turkey)), date=2008-05-11 12:00:00+00:00, results=[Result(number=2, position=1, position_text=1, points=10.0, driver=Driver(driver_id=massa, permanent_number=19, code=MAS, url=http://en.wikipedia.org/wiki/Felipe_Massa, given_name=Felipe, family_name=Massa, date_of_birth=1981-04-25, nationality=Brazilian), constructor=Constructor(constructor_id=ferrari, url=http://en.wikipedia.org/wiki/Scuderia_Ferrari, name=Ferrari, nationality=Italian), grid=1, laps=58, status=1, time=02:26:49.451000, fastest_lap=FastestLap(rank=3, lap=16, time=00:01:26.666000, average_speed=AverageSpeed(units=kph, speed=221.734)), qual_1=None, qual_2=None, qual_3=None), Result(number=22, position=2, position_text=2, points=8.0, driver=Driver(driver_id=hamilton, permanent_number=44, code=HAM, url=http://en.wikipedia.org/wiki/Lewis_Hamilton, given_name=Lewis, family_name=Hamilton, date_of_birth=1985-01-07, nationality=British), constructor=Constructor(constructor_id=mclaren, url=http://en.wikipedia.org/wiki/McLaren, name=McLaren, nationality=British), grid=3, laps=58, status=1, time=02:26:53.230000, fastest_lap=FastestLap(rank=2, lap=31, time=00:01:26.529000, average_speed=AverageSpeed(units=kph, speed=222.085)), qual_1=None, qual_2=None, qual_3=None), Result(number=1, position=3, position_text=3, points=6.0, driver=Driver(driver_id=raikkonen, permanent_number=7, code=RAI, url=http://en.wikipedia.org/wiki/Kimi_R%C3%A4ikk%C3%B6nen, given_name=Kimi, family_name=Räikkönen, date_of_birth=1979-10-17, nationality=Finnish), constructor=Constructor(constructor_id=ferrari, url=http://en.wikipedia.org/wiki/Scuderia_Ferrari, name=Ferrari, nationality=Italian), grid=4, laps=58, status=1, time=02:26:53.722000, fastest_lap=FastestLap(rank=1, lap=20, time=00:01:26.506000, average_speed=AverageSpeed(units=kph, speed=222.144)), qual_1=None, qual_2=None, qual_3=None), Result(number=4, position=4, position_text=4, points=5.0, driver=Driver(driver_id=kubica, permanent_number=88, code=KUB, url=http://en.wikipedia.org/wiki/Robert_Kubica, given_name=Robert, family_name=Kubica, date_of_birth=1984-12-07, nationality=Polish), constructor=Constructor(constructor_id=bmw_sauber, url=http://en.wikipedia.org/wiki/BMW_Sauber, name=BMW Sauber, nationality=German), grid=5, laps=58, status=1, time=02:27:11.396000, fastest_lap=FastestLap(rank=4, lap=17, time=00:01:26.780000, average_speed=AverageSpeed(units=kph, speed=221.442)), qual_1=None, qual_2=None, qual_3=None), Result(number=3, position=5, position_text=5, points=4.0, driver=Driver(driver_id=heidfeld, permanent_number=0, code=HEI, url=http://en.wikipedia.org/wiki/Nick_Heidfeld, given_name=Nick, family_name=Heidfeld, date_of_birth=1977-05-10, nationality=German), constructor=Constructor(constructor_id=bmw_sauber, url=http://en.wikipedia.org/wiki/BMW_Sauber, name=BMW Sauber, nationality=German), grid=9, laps=58, status=1, time=02:27:28.192000, fastest_lap=FastestLap(rank=5, lap=20, time=00:01:27.219000, average_speed=AverageSpeed(units=kph, speed=220.328)), qual_1=None, qual_2=None, qual_3=None), Result(number=5, position=6, position_text=6, points=3.0, driver=Driver(driver_id=alonso, permanent_number=14, code=ALO, url=http://en.wikipedia.org/wiki/Fernando_Alonso, given_name=Fernando, family_name=Alonso, date_of_birth=1981-07-29, nationality=Spanish), constructor=Constructor(constructor_id=renault, url=http://en.wikipedia.org/wiki/Renault_in_Formula_One, name=Renault, nationality=French), grid=7, laps=58, status=1, time=02:27:43.175000, fastest_lap=FastestLap(rank=6, lap=57, time=00:01:27.280000, average_speed=AverageSpeed(units=kph, speed=220.174)), qual_1=None, qual_2=None, qual_3=None), Result(number=10, position=7, position_text=7, points=2.0, driver=Driver(driver_id=webber, permanent_number=0, code=WEB, url=http://en.wikipedia.org/wiki/Mark_Webber_(racing_driver), given_name=Mark, family_name=Webber, date_of_birth=1976-08-27, nationality=Australian), constructor=Constructor(constructor_id=red_bull, url=http://en.wikipedia.org/wiki/Red_Bull_Racing, name=Red Bull, nationality=Austrian), grid=6, laps=58, status=1, time=02:27:53.680000, fastest_lap=FastestLap(rank=7, lap=14, time=00:01:27.630000, average_speed=AverageSpeed(units=kph, speed=219.294)), qual_1=None, qual_2=None, qual_3=None), Result(number=7, position=8, position_text=8, points=1.0, driver=Driver(driver_id=rosberg, permanent_number=6, code=ROS, url=http://en.wikipedia.org/wiki/Nico_Rosberg, given_name=Nico, family_name=Rosberg, date_of_birth=1985-06-27, nationality=German), constructor=Constructor(constructor_id=williams, url=http://en.wikipedia.org/wiki/Williams_Grand_Prix_Engineering, name=Williams, nationality=British), grid=11, laps=58, status=1, time=02:28:00.857000, fastest_lap=FastestLap(rank=9, lap=55, time=00:01:27.795000, average_speed=AverageSpeed(units=kph, speed=218.882)), qual_1=None, qual_2=None, qual_3=None), Result(number=9, position=9, position_text=9, points=0.0, driver=Driver(driver_id=coulthard, permanent_number=0, code=COU, url=http://en.wikipedia.org/wiki/David_Coulthard, given_name=David, family_name=Coulthard, date_of_birth=1971-03-27, nationality=British), constructor=Constructor(constructor_id=red_bull, url=http://en.wikipedia.org/wiki/Red_Bull_Racing, name=Red Bull, nationality=Austrian), grid=10, laps=58, status=1, time=02:28:04.721000, fastest_lap=FastestLap(rank=12, lap=41, time=00:01:27.966000, average_speed=AverageSpeed(units=kph, speed=218.457)), qual_1=None, qual_2=None, qual_3=None), Result(number=11, position=10, position_text=10, points=0.0, driver=Driver(driver_id=trulli, permanent_number=0, code=TRU, url=http://en.wikipedia.org/wiki/Jarno_Trulli, given_name=Jarno, family_name=Trulli, date_of_birth=1974-07-13, nationality=Italian), constructor=Constructor(constructor_id=toyota, url=http://en.wikipedia.org/wiki/Toyota_Racing, name=Toyota, nationality=Japanese), grid=8, laps=58, status=1, time=02:28:05.795000, fastest_lap=FastestLap(rank=11, lap=52, time=00:01:27.926000, average_speed=AverageSpeed(units=kph, speed=218.556)), qual_1=None, qual_2=None, qual_3=None), Result(number=16, position=11, position_text=11, points=0.0, driver=Driver(driver_id=button, permanent_number=22, code=BUT, url=http://en.wikipedia.org/wiki/Jenson_Button, given_name=Jenson, family_name=Button, date_of_birth=1980-01-19, nationality=British), constructor=Constructor(constructor_id=honda, url=http://en.wikipedia.org/wiki/Honda_Racing_F1, name=Honda, nationality=Japanese), grid=13, laps=57, status=11, time=None, fastest_lap=FastestLap(rank=13, lap=57, time=00:01:27.998000, average_speed=AverageSpeed(units=kph, speed=218.377)), qual_1=None, qual_2=None, qual_3=None), Result(number=23, position=12, position_text=12, points=0.0, driver=Driver(driver_id=kovalainen, permanent_number=0, code=KOV, url=http://en.wikipedia.org/wiki/Heikki_Kovalainen, given_name=Heikki, family_name=Kovalainen, date_of_birth=1981-10-19, nationality=Finnish), constructor=Constructor(constructor_id=mclaren, url=http://en.wikipedia.org/wiki/McLaren, name=McLaren, nationality=British), grid=2, laps=57, status=11, time=None, fastest_lap=FastestLap(rank=8, lap=55, time=00:01:27.640000, average_speed=AverageSpeed(units=kph, speed=219.269)), qual_1=None, qual_2=None, qual_3=None), Result(number=12, position=13, position_text=13, points=0.0, driver=Driver(driver_id=glock, permanent_number=0, code=GLO, url=http://en.wikipedia.org/wiki/Timo_Glock, given_name=Timo, family_name=Glock, date_of_birth=1982-03-18, nationality=German), constructor=Constructor(constructor_id=toyota, url=http://en.wikipedia.org/wiki/Toyota_Racing, name=Toyota, nationality=Japanese), grid=15, laps=57, status=11, time=None, fastest_lap=FastestLap(rank=16, lap=28, time=00:01:28.303000, average_speed=AverageSpeed(units=kph, speed=217.623)), qual_1=None, qual_2=None, qual_3=None), Result(number=17, position=14, position_text=14, points=0.0, driver=Driver(driver_id=barrichello, permanent_number=0, code=BAR, url=http://en.wikipedia.org/wiki/Rubens_Barrichello, given_name=Rubens, family_name=Barrichello, date_of_birth=1972-05-23, nationality=Brazilian), constructor=Constructor(constructor_id=honda, url=http://en.wikipedia.org/wiki/Honda_Racing_F1, name=Honda, nationality=Japanese), grid=12, laps=57, status=11, time=None, fastest_lap=FastestLap(rank=14, lap=56, time=00:01:28.017000, average_speed=AverageSpeed(units=kph, speed=218.33)), qual_1=None, qual_2=None, qual_3=None), Result(number=6, position=15, position_text=15, points=0.0, driver=Driver(driver_id=piquet_jr, permanent_number=0, code=PIQ, url=http://en.wikipedia.org/wiki/Nelson_Piquet,_Jr., given_name=Nelson, family_name=Piquet Jr., date_of_birth=1985-07-25, nationality=Brazilian), constructor=Constructor(constructor_id=renault, url=http://en.wikipedia.org/wiki/Renault_in_Formula_One, name=Renault, nationality=French), grid=17, laps=57, status=11, time=None, fastest_lap=FastestLap(rank=10, lap=40, time=00:01:27.867000, average_speed=AverageSpeed(units=kph, speed=218.703)), qual_1=None, qual_2=None, qual_3=None), Result(number=20, position=16, position_text=16, points=0.0, driver=Driver(driver_id=sutil, permanent_number=99, code=SUT, url=http://en.wikipedia.org/wiki/Adrian_Sutil, given_name=Adrian, family_name=Sutil, date_of_birth=1983-01-11, nationality=German), constructor=Constructor(constructor_id=force_india, url=http://en.wikipedia.org/wiki/Racing_Point_Force_India, name=Force India, nationality=Indian), grid=19, laps=57, status=11, time=None, fastest_lap=FastestLap(rank=18, lap=35, time=00:01:28.780000, average_speed=AverageSpeed(units=kph, speed=216.454)), qual_1=None, qual_2=None, qual_3=None), Result(number=15, position=17, position_text=17, points=0.0, driver=Driver(driver_id=vettel, permanent_number=5, code=VET, url=http://en.wikipedia.org/wiki/Sebastian_Vettel, given_name=Sebastian, family_name=Vettel, date_of_birth=1987-07-03, nationality=German), constructor=Constructor(constructor_id=toro_rosso, url=http://en.wikipedia.org/wiki/Scuderia_Toro_Rosso, name=Toro Rosso, nationality=Italian), grid=14, laps=57, status=11, time=None, fastest_lap=FastestLap(rank=15, lap=38, time=00:01:28.180000, average_speed=AverageSpeed(units=kph, speed=217.926)), qual_1=None, qual_2=None, qual_3=None), Result(number=14, position=18, position_text=R, points=0.0, driver=Driver(driver_id=bourdais, permanent_number=0, code=BOU, url=http://en.wikipedia.org/wiki/S%C3%A9bastien_Bourdais, given_name=Sébastien, family_name=Bourdais, date_of_birth=1979-02-28, nationality=French), constructor=Constructor(constructor_id=toro_rosso, url=http://en.wikipedia.org/wiki/Scuderia_Toro_Rosso, name=Toro Rosso, nationality=Italian), grid=18, laps=24, status=22, time=None, fastest_lap=FastestLap(rank=17, lap=19, time=00:01:28.745000, average_speed=AverageSpeed(units=kph, speed=216.539)), qual_1=None, qual_2=None, qual_3=None), Result(number=8, position=19, position_text=R, points=0.0, driver=Driver(driver_id=nakajima, permanent_number=0, code=NAK, url=http://en.wikipedia.org/wiki/Kazuki_Nakajima, given_name=Kazuki, family_name=Nakajima, date_of_birth=1985-01-11, nationality=Japanese), constructor=Constructor(constructor_id=williams, url=http://en.wikipedia.org/wiki/Williams_Grand_Prix_Engineering, name=Williams, nationality=British), grid=16, laps=1, status=4, time=None, fastest_lap=FastestLap(rank=0, lap=0, time=None, average_speed=AverageSpeed(units=, speed=0.0)), qual_1=None, qual_2=None, qual_3=None), Result(number=21, position=20, position_text=R, points=0.0, driver=Driver(driver_id=fisichella, permanent_number=0, code=FIS, url=http://en.wikipedia.org/wiki/Giancarlo_Fisichella, given_name=Giancarlo, family_name=Fisichella, date_of_birth=1973-01-14, nationality=Italian), constructor=Constructor(constructor_id=force_india, url=http://en.wikipedia.org/wiki/Racing_Point_Force_India, name=Force India, nationality=Indian), grid=20, laps=0, status=4, time=None, fastest_lap=FastestLap(rank=0, lap=0, time=None, average_speed=AverageSpeed(units=, speed=0.0)), qual_1=None, qual_2=None, qual_3=None)], first_practice=None, second_practice=None, third_practice=None, sprint=None, sprint_results=[], qualifying=None, qualifying_results=[], pit_stops=[], laps=[])]"
      ]
     },
     "execution_count": 17,
     "metadata": {},
     "output_type": "execute_result"
    }
   ],
   "source": [
    "results = e.season(2008).round(5).get_results()\n",
    "results"
   ]
  },
  {
   "cell_type": "code",
   "execution_count": 24,
   "id": "a3a77982-713f-487d-b902-d898bb2ca3a7",
   "metadata": {},
   "outputs": [
    {
     "data": {
      "text/plain": [
       "Result(number=2, position=1, position_text=1, points=10.0, driver=Driver(driver_id=massa, permanent_number=19, code=MAS, url=http://en.wikipedia.org/wiki/Felipe_Massa, given_name=Felipe, family_name=Massa, date_of_birth=1981-04-25, nationality=Brazilian), constructor=Constructor(constructor_id=ferrari, url=http://en.wikipedia.org/wiki/Scuderia_Ferrari, name=Ferrari, nationality=Italian), grid=1, laps=58, status=1, time=02:26:49.451000, fastest_lap=FastestLap(rank=3, lap=16, time=00:01:26.666000, average_speed=AverageSpeed(units=kph, speed=221.734)), qual_1=None, qual_2=None, qual_3=None)"
      ]
     },
     "execution_count": 24,
     "metadata": {},
     "output_type": "execute_result"
    }
   ],
   "source": [
    "results[0].results[0]"
   ]
  },
  {
   "cell_type": "code",
   "execution_count": 29,
   "id": "10004e60-7f0a-4dd6-9fde-0a58bb62cf4a",
   "metadata": {},
   "outputs": [
    {
     "data": {
      "text/plain": [
       "[Lap(number=1, timings=[Timing(driver_id=max_verstappen, position=1, time=00:01:58.245000), Timing(driver_id=hamilton, position=2, time=00:01:59.538000), Timing(driver_id=leclerc, position=3, time=00:02:02.698000), Timing(driver_id=bottas, position=4, time=00:02:03.772000), Timing(driver_id=gasly, position=5, time=00:02:04.697000), Timing(driver_id=norris, position=6, time=00:02:06.744000), Timing(driver_id=ricciardo, position=7, time=00:02:08.545000), Timing(driver_id=alonso, position=8, time=00:02:10.373000), Timing(driver_id=stroll, position=9, time=00:02:12.396000), Timing(driver_id=sainz, position=10, time=00:02:14.282000), Timing(driver_id=raikkonen, position=11, time=00:02:16.372000), Timing(driver_id=giovinazzi, position=12, time=00:02:18.362000), Timing(driver_id=ocon, position=13, time=00:02:19.866000), Timing(driver_id=vettel, position=14, time=00:02:21.797000), Timing(driver_id=tsunoda, position=15, time=00:02:22.502000), Timing(driver_id=russell, position=16, time=00:02:24.364000), Timing(driver_id=latifi, position=17, time=00:02:25.219000), Timing(driver_id=mick_schumacher, position=18, time=00:02:26.524000), Timing(driver_id=perez, position=19, time=00:02:27.951000)])]"
      ]
     },
     "execution_count": 29,
     "metadata": {},
     "output_type": "execute_result"
    }
   ],
   "source": [
    "lap = e.season(2021).round(1).lap(1).get_laps()[0].laps\n",
    "lap"
   ]
  },
  {
   "cell_type": "code",
   "execution_count": 41,
   "id": "73e59581-105a-4049-ab39-f7f392b27b62",
   "metadata": {},
   "outputs": [
    {
     "data": {
      "text/plain": [
       "ergast_py.models.lap.Lap"
      ]
     },
     "execution_count": 41,
     "metadata": {},
     "output_type": "execute_result"
    }
   ],
   "source": [
    "type(lap[0])"
   ]
  },
  {
   "cell_type": "code",
   "execution_count": 39,
   "id": "bcbac263-51de-4f6e-8551-da0298048e87",
   "metadata": {},
   "outputs": [
    {
     "data": {
      "text/plain": [
       "{'number': 1,\n",
       " 'timings': [Timing(driver_id=max_verstappen, position=1, time=00:01:58.245000),\n",
       "  Timing(driver_id=hamilton, position=2, time=00:01:59.538000),\n",
       "  Timing(driver_id=leclerc, position=3, time=00:02:02.698000),\n",
       "  Timing(driver_id=bottas, position=4, time=00:02:03.772000),\n",
       "  Timing(driver_id=gasly, position=5, time=00:02:04.697000),\n",
       "  Timing(driver_id=norris, position=6, time=00:02:06.744000),\n",
       "  Timing(driver_id=ricciardo, position=7, time=00:02:08.545000),\n",
       "  Timing(driver_id=alonso, position=8, time=00:02:10.373000),\n",
       "  Timing(driver_id=stroll, position=9, time=00:02:12.396000),\n",
       "  Timing(driver_id=sainz, position=10, time=00:02:14.282000),\n",
       "  Timing(driver_id=raikkonen, position=11, time=00:02:16.372000),\n",
       "  Timing(driver_id=giovinazzi, position=12, time=00:02:18.362000),\n",
       "  Timing(driver_id=ocon, position=13, time=00:02:19.866000),\n",
       "  Timing(driver_id=vettel, position=14, time=00:02:21.797000),\n",
       "  Timing(driver_id=tsunoda, position=15, time=00:02:22.502000),\n",
       "  Timing(driver_id=russell, position=16, time=00:02:24.364000),\n",
       "  Timing(driver_id=latifi, position=17, time=00:02:25.219000),\n",
       "  Timing(driver_id=mick_schumacher, position=18, time=00:02:26.524000),\n",
       "  Timing(driver_id=perez, position=19, time=00:02:27.951000)]}"
      ]
     },
     "execution_count": 39,
     "metadata": {},
     "output_type": "execute_result"
    }
   ],
   "source": [
    "vars(lap[0])"
   ]
  },
  {
   "cell_type": "code",
   "execution_count": 38,
   "id": "a161f581-840d-4291-8a79-398fc38e59ff",
   "metadata": {},
   "outputs": [
    {
     "data": {
      "text/plain": [
       "{'driver_id': 'max_verstappen',\n",
       " 'position': 1,\n",
       " 'time': datetime.time(0, 1, 58, 245000)}"
      ]
     },
     "execution_count": 38,
     "metadata": {},
     "output_type": "execute_result"
    }
   ],
   "source": [
    "vars(lap[0].timings[0])"
   ]
  },
  {
   "cell_type": "code",
   "execution_count": null,
   "id": "25999f2b-71fd-4388-90e6-52c4b19988a1",
   "metadata": {},
   "outputs": [],
   "source": []
  }
 ],
 "metadata": {
  "kernelspec": {
   "display_name": "Python 3 (ipykernel)",
   "language": "python",
   "name": "python3"
  },
  "language_info": {
   "codemirror_mode": {
    "name": "ipython",
    "version": 3
   },
   "file_extension": ".py",
   "mimetype": "text/x-python",
   "name": "python",
   "nbconvert_exporter": "python",
   "pygments_lexer": "ipython3",
   "version": "3.9.12"
  }
 },
 "nbformat": 4,
 "nbformat_minor": 5
}
