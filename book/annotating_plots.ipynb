{
 "cells": [
  {
   "cell_type": "markdown",
   "id": "c9d1ec8b-f165-4b74-be77-5a14ea8b946b",
   "metadata": {},
   "source": [
    "# Annotating Plots\n",
    "\n",
    "see eg https://github.com/theOehrly/Fast-F1/discussions/155"
   ]
  }
 ],
 "metadata": {
  "kernelspec": {
   "display_name": "Python 3 (ipykernel)",
   "language": "python",
   "name": "python3"
  },
  "language_info": {
   "codemirror_mode": {
    "name": "ipython",
    "version": 3
   },
   "file_extension": ".py",
   "mimetype": "text/x-python",
   "name": "python",
   "nbconvert_exporter": "python",
   "pygments_lexer": "ipython3",
   "version": "3.9.12"
  }
 },
 "nbformat": 4,
 "nbformat_minor": 5
}
